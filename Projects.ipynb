{
 "cells": [
  {
   "attachments": {},
   "cell_type": "markdown",
   "id": "78c03b4c-5370-4cf8-b138-238a5f6de3d2",
   "metadata": {},
   "source": [
    "### Project 1: Install and start the nginx service\n",
    "\n",
    "```yml\n",
    "---\n",
    "- name: Install and Start nginx\n",
    "  hosts: hosts\n",
    "\n",
    "  tasks:\n",
    "    - name: Install nginx\n",
    "      apt:\n",
    "        name: nginx\n",
    "        state: present\n",
    "    - name: Start nginx\n",
    "      service:\n",
    "        name: nginx\n",
    "        state: started\n",
    "```\n"
   ]
  },
  {
   "attachments": {},
   "cell_type": "markdown",
   "id": "50949ec8-9875-4f43-a765-3e46bafb676b",
   "metadata": {},
   "source": [
    "### project 2: Check groups in linux machine\n",
    "```yml\n",
    "---\n",
    "- name: Check users and groups\n",
    "  hosts: all\n",
    "  tasks:\n",
    "    - name: List all users\n",
    "      ansible.builtin.command: cat /etc/passwd\n",
    "      register: users_list\n",
    "\n",
    "    - name: Print users list\n",
    "      debug:\n",
    "        var: users_list.stdout\n",
    "\n",
    "    - name: List all groups\n",
    "      ansible.builtin.command: cat /etc/group\n",
    "      register: groups_list\n",
    "\n",
    "    - name: Print groups list\n",
    "      debug:\n",
    "        var: groups_list.stdout\n",
    "```\n"
   ]
  },
  {
   "cell_type": "markdown",
   "id": "147147b6-b024-4de1-8c05-092481ce99a0",
   "metadata": {},
   "source": [
    "### project 3: Create user and assign to group\n",
    "```yml\n",
    "---\n",
    "- name: Create a user and assign to group\n",
    "  hosts: hosts\n",
    "  tasks:\n",
    "    - name: Create a user and assign to group\n",
    "      ansible.builtin.user:\n",
    "        name: devuser\n",
    "        group: devgroup\n",
    "        state: present\n",
    "        shell: /bin/bash\n",
    "        home: /home/devuser\n",
    "        create_home: yes\n",
    "```"
   ]
  },
  {
   "cell_type": "markdown",
   "id": "b8cb016c-f362-4b7d-a83c-afb7cbf09fbb",
   "metadata": {},
   "source": [
    "### Project 4: Manage users and groups\n",
    "```yml\n",
    "---\n",
    "- name: Manage users and groups\n",
    "  hosts: all\n",
    "  tasks:\n",
    "    - name: Create a group\n",
    "      ansible.builtin.group:\n",
    "        name: devgroup\n",
    "        state: present\n",
    "\n",
    "    - name: Create a user and assign to group\n",
    "      ansible.builtin.user:\n",
    "        name: devuser\n",
    "        group: devgroup\n",
    "        state: present\n",
    "        shell: /bin/bash\n",
    "        home: /home/devuser\n",
    "        create_home: yes\n",
    "\n",
    "    - name: Set a password for the user\n",
    "      ansible.builtin.user:\n",
    "        name: devuser\n",
    "        password: \"{{ 'asd' | password_hash('sha512') }}\"\n",
    "\n",
    "```"
   ]
  },
  {
   "cell_type": "markdown",
   "id": "3b6fa23c-de9f-45f2-b02a-49ade17d85f6",
   "metadata": {},
   "source": [
    "### Project 5. Create dynamic directory\n",
    "```yml\n",
    "---\n",
    "- name: Create dynamic directory\n",
    "  hosts: all\n",
    "  vars:\n",
    "    folder_name: autocreated_dir\n",
    "  tasks:\n",
    "    - name: create a dir automatically\n",
    "      ansible.builtin.file:\n",
    "        path: \"{{ folder_name }}\"\n",
    "        state: directory\n",
    "        mode: '0755'\n",
    "```"
   ]
  },
  {
   "cell_type": "markdown",
   "id": "3c5c637a-5ae9-4ae7-99c1-23353ce5ec72",
   "metadata": {},
   "source": [
    "### Project 6: Create files in target machine using ansible playbook\n",
    "```yml\n",
    "---\n",
    "- name: Create files with specific extensions\n",
    "  hosts: all\n",
    "  tasks:\n",
    "    - name: Create an empty file with .txt extension\n",
    "      ansible.builtin.file:\n",
    "        path: /path/to/yourfile.txt\n",
    "        state: touch  # Ensures the file exists\n",
    "        mode: '0644'  # File permissions\n",
    "\n",
    "    - name: Create an empty file with .log extension\n",
    "      ansible.builtin.file:\n",
    "        path: /path/to/yourfile.log\n",
    "        state: touch\n",
    "        mode: '0644'\n",
    "\n",
    "```"
   ]
  },
  {
   "cell_type": "code",
   "execution_count": null,
   "id": "1d4aa5e2-db8b-43c2-843d-53f5ca94a1fc",
   "metadata": {},
   "outputs": [],
   "source": []
  }
 ],
 "metadata": {
  "kernelspec": {
   "display_name": "Python 3 (ipykernel)",
   "language": "python",
   "name": "python3"
  },
  "language_info": {
   "codemirror_mode": {
    "name": "ipython",
    "version": 3
   },
   "file_extension": ".py",
   "mimetype": "text/x-python",
   "name": "python",
   "nbconvert_exporter": "python",
   "pygments_lexer": "ipython3",
   "version": "3.12.0"
  }
 },
 "nbformat": 4,
 "nbformat_minor": 5
}
